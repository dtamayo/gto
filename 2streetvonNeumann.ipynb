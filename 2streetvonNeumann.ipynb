{
 "cells": [
  {
   "cell_type": "code",
   "execution_count": 34,
   "metadata": {},
   "outputs": [],
   "source": [
    "import numpy as np"
   ]
  },
  {
   "cell_type": "markdown",
   "metadata": {},
   "source": [
    "B1 = 1st street bet, B2 = 2nd street (both as fraction of pot)"
   ]
  },
  {
   "cell_type": "code",
   "execution_count": 39,
   "metadata": {},
   "outputs": [],
   "source": [
    "B1 = 1.\n",
    "B2 = 1."
   ]
  },
  {
   "cell_type": "code",
   "execution_count": 40,
   "metadata": {},
   "outputs": [],
   "source": [
    "def gtostrat(B1, B2):\n",
    "    A1 = (1+B1)/(1 + (1+B1) + (1+B2)**2*(1+2*(1+B1)**2))\n",
    "    \n",
    "    A2 = (1 + (1+B2)**2)/(1+B1)*A1\n",
    "    A3 = 2*B1*(1+B2)**2*A1\n",
    "    A4 = 2*B2*(1+B2)*A1\n",
    "    A5 = (1+B2)*(1-B2)*A1\n",
    "    A6 = B2*(1+B2)*A1\n",
    "    A7 = (1+B2)*A1\n",
    "    \n",
    "    a2 = A1\n",
    "    a1 = A1+A2\n",
    "    c1 = A1+A2+A3\n",
    "    c2 = A1+A2+A3+A4\n",
    "    b1 = A1+A2+A3+A4+A5\n",
    "    b2 = A1+A2+A3+A4+A5+A6\n",
    "    \n",
    "    return a1, a2, b1, b2, c1, c2"
   ]
  },
  {
   "cell_type": "code",
   "execution_count": 41,
   "metadata": {},
   "outputs": [],
   "source": [
    "a1, a2, b1, b2, c1, c2 = gtostrat(B1, B2)\n",
    "np.testing.assert_almost_equal(b1-c1, 1-b1, decimal=15)\n",
    "np.testing.assert_almost_equal(b2-c2, 1-b2, decimal=15)\n",
    "np.testing.assert_almost_equal(c1-a1, B1*(1-c1), decimal=15)\n",
    "np.testing.assert_almost_equal(c2-c1, B2*(1-c2), decimal=15)\n",
    "np.testing.assert_almost_equal(1-b1+a2, (1+B1)*(a1-a2), decimal=15)\n",
    "np.testing.assert_almost_equal(1-b2, (1+B2)*a2, decimal=15)"
   ]
  },
  {
   "cell_type": "code",
   "execution_count": 42,
   "metadata": {},
   "outputs": [
    {
     "data": {
      "text/plain": [
       "0.4"
      ]
     },
     "execution_count": 42,
     "metadata": {},
     "output_type": "execute_result"
    }
   ],
   "source": [
    "def plotstrat(a, b, c):\n",
    "    height=1\n",
    "    fig, ax = plt.subplots()\n",
    "\n",
    "    bluff = 'b'\n",
    "    value = 'orange'\n",
    "    check = 'gray'\n",
    "    call = 'g'\n",
    "    fold = 'r'\n",
    "\n",
    "    p1y =  2\n",
    "\n",
    "    ax.barh(p1y, a, height=height, color=bluff, label='Bluff')\n",
    "    ax.barh(p1y, b-a, height=height, left=a, color=check, label='Check')\n",
    "    ax.barh(p1y, 1-b, height=height, left=b, color=value, label='Value')\n",
    "\n",
    "    p2y =  0\n",
    "    ax.barh(p2y, c, height=height, color=fold, label='Fold')\n",
    "    ax.barh(p2y, 1-c, height=height, left=c, color=call, label='Call')\n",
    "\n",
    "    ax.axes.get_yaxis().set_visible(False)\n",
    "    ax.set_frame_on(False)\n",
    "\n",
    "    ax.set_ylim([-height,3*height])\n",
    "    ax.set_xlim([0,1])\n",
    "\n",
    "    ax.text(-0.2, p1y, 'P1', fontsize=20)\n",
    "    ax.text(-0.2, p2y, 'P2', fontsize=20)\n",
    "    ax.text(b-0.02, p1y+height*2/3, 'b', fontsize=20)\n",
    "    ax.text(a-0.02, p1y+height*2/3, 'a', fontsize=20)\n",
    "    ax.text(c-0.02, p2y+height*2/3, 'c', fontsize=20)\n",
    "    ax.legend(loc=(1.1, 0.2))\n",
    "    return fig"
   ]
  },
  {
   "cell_type": "code",
   "execution_count": null,
   "metadata": {},
   "outputs": [],
   "source": []
  }
 ],
 "metadata": {
  "kernelspec": {
   "display_name": "Python 3",
   "language": "python",
   "name": "python3"
  },
  "language_info": {
   "codemirror_mode": {
    "name": "ipython",
    "version": 3
   },
   "file_extension": ".py",
   "mimetype": "text/x-python",
   "name": "python",
   "nbconvert_exporter": "python",
   "pygments_lexer": "ipython3",
   "version": "3.7.1"
  }
 },
 "nbformat": 4,
 "nbformat_minor": 2
}
