{
 "cells": [
  {
   "cell_type": "code",
   "execution_count": 9,
   "metadata": {},
   "outputs": [],
   "source": [
    "import numpy as np\n",
    "import matplotlib.pyplot as plt\n",
    "%matplotlib inline"
   ]
  },
  {
   "cell_type": "markdown",
   "metadata": {},
   "source": [
    "B1 = 1st street bet, B2 = 2nd street (both as fraction of pot)"
   ]
  },
  {
   "cell_type": "code",
   "execution_count": 16,
   "metadata": {},
   "outputs": [],
   "source": [
    "B1 = 1.\n",
    "B2 = 1."
   ]
  },
  {
   "cell_type": "code",
   "execution_count": 17,
   "metadata": {},
   "outputs": [],
   "source": [
    "def gtostrat(B1, B2):\n",
    "    A1 = (1+B1)/(1 + (1+B1) + (1+B2)**2*(1+2*(1+B1)**2))\n",
    "    \n",
    "    A2 = (1 + (1+B2)**2)/(1+B1)*A1\n",
    "    A3 = 2*B1*(1+B2)**2*A1\n",
    "    A4 = 2*B2*(1+B2)*A1\n",
    "    A5 = (1+B2)*(1-B2)*A1\n",
    "    A6 = B2*(1+B2)*A1\n",
    "    A7 = (1+B2)*A1\n",
    "    \n",
    "    a2 = A1\n",
    "    a1 = A1+A2\n",
    "    c1 = A1+A2+A3\n",
    "    c2 = A1+A2+A3+A4\n",
    "    b1 = A1+A2+A3+A4+A5\n",
    "    b2 = A1+A2+A3+A4+A5+A6\n",
    "    \n",
    "    return a1, a2, b1, b2, c1, c2"
   ]
  },
  {
   "cell_type": "code",
   "execution_count": 18,
   "metadata": {},
   "outputs": [],
   "source": [
    "a1, a2, b1, b2, c1, c2 = gtostrat(B1, B2)\n",
    "np.testing.assert_almost_equal(b1-c1, 1-b1, decimal=15)\n",
    "np.testing.assert_almost_equal(b2-c2, 1-b2, decimal=15)\n",
    "np.testing.assert_almost_equal(c1-a1, B1*(1-c1), decimal=15)\n",
    "np.testing.assert_almost_equal(c2-c1, B2*(1-c2), decimal=15)\n",
    "np.testing.assert_almost_equal(1-b1+a2, (1+B1)*(a1-a2), decimal=15)\n",
    "np.testing.assert_almost_equal(1-b2, (1+B2)*a2, decimal=15)"
   ]
  },
  {
   "cell_type": "code",
   "execution_count": 19,
   "metadata": {},
   "outputs": [],
   "source": [
    "def plot2streetvonNeumann(B1,B2):\n",
    "    a1, a2, b1, b2, c1, c2 = gtostrat(B1, B2)\n",
    "\n",
    "    height=1\n",
    "    fig, ax = plt.subplots()\n",
    "\n",
    "    bet = 'r'\n",
    "    check = 'g'\n",
    "    fold = 'b'\n",
    "    call = 'g'\n",
    "    \n",
    "    p1y =  2\n",
    "\n",
    "    ax.barh(p1y, a2, height=height, color=bet)\n",
    "    ax.barh(p1y, a1-a2, height=height, left=a2, color=bet, alpha=0.5)\n",
    "    ax.barh(p1y, b1-a1, height=height, left=a1, color=check)\n",
    "    ax.barh(p1y, b2-b1, height=height, left=b1, color=bet, alpha=0.5)\n",
    "    ax.barh(p1y, 1-b1, height=height, left=b2, color=bet)\n",
    "    \n",
    "    \n",
    "    p2y =  0\n",
    "    ax.barh(p2y, c1, height=height, color=fold)\n",
    "    ax.barh(p2y, c2-c1, height=height, left=c1, color=call, alpha=0.5)\n",
    "    ax.barh(p2y, 1-c2, height=height, left=c2, color=call)\n",
    "\n",
    "    ax.axes.get_yaxis().set_visible(False)\n",
    "    ax.set_frame_on(False)\n",
    "\n",
    "    ax.set_ylim([-height,3*height])\n",
    "    ax.set_xlim([0,1])\n",
    "\n",
    "    ax.text(-0.2, p1y, 'P1', fontsize=20)\n",
    "    ax.text(-0.2, p2y, 'P2', fontsize=20)\n",
    "    ax.text(b-0.02, p1y+height*2/3, 'b', fontsize=20)\n",
    "    ax.text(a-0.02, p1y+height*2/3, 'a', fontsize=20)\n",
    "    ax.text(c-0.02, p2y+height*2/3, 'c', fontsize=20)\n",
    "    ax.legend(loc=(1.1, 0.2))\n",
    "    return fig"
   ]
  },
  {
   "cell_type": "code",
   "execution_count": 20,
   "metadata": {},
   "outputs": [
    {
     "ename": "NameError",
     "evalue": "name 'b' is not defined",
     "output_type": "error",
     "traceback": [
      "\u001b[0;31m---------------------------------------------------------------------------\u001b[0m",
      "\u001b[0;31mNameError\u001b[0m                                 Traceback (most recent call last)",
      "\u001b[0;32m<ipython-input-20-a53bdcabcf3b>\u001b[0m in \u001b[0;36m<module>\u001b[0;34m()\u001b[0m\n\u001b[0;32m----> 1\u001b[0;31m \u001b[0mplot2streetvonNeumann\u001b[0m\u001b[0;34m(\u001b[0m\u001b[0mB1\u001b[0m\u001b[0;34m,\u001b[0m\u001b[0mB2\u001b[0m\u001b[0;34m)\u001b[0m\u001b[0;34m\u001b[0m\u001b[0;34m\u001b[0m\u001b[0m\n\u001b[0m",
      "\u001b[0;32m<ipython-input-19-0888598442b8>\u001b[0m in \u001b[0;36mplot2streetvonNeumann\u001b[0;34m(B1, B2)\u001b[0m\n\u001b[1;32m     32\u001b[0m     \u001b[0max\u001b[0m\u001b[0;34m.\u001b[0m\u001b[0mtext\u001b[0m\u001b[0;34m(\u001b[0m\u001b[0;34m-\u001b[0m\u001b[0;36m0.2\u001b[0m\u001b[0;34m,\u001b[0m \u001b[0mp1y\u001b[0m\u001b[0;34m,\u001b[0m \u001b[0;34m'P1'\u001b[0m\u001b[0;34m,\u001b[0m \u001b[0mfontsize\u001b[0m\u001b[0;34m=\u001b[0m\u001b[0;36m20\u001b[0m\u001b[0;34m)\u001b[0m\u001b[0;34m\u001b[0m\u001b[0;34m\u001b[0m\u001b[0m\n\u001b[1;32m     33\u001b[0m     \u001b[0max\u001b[0m\u001b[0;34m.\u001b[0m\u001b[0mtext\u001b[0m\u001b[0;34m(\u001b[0m\u001b[0;34m-\u001b[0m\u001b[0;36m0.2\u001b[0m\u001b[0;34m,\u001b[0m \u001b[0mp2y\u001b[0m\u001b[0;34m,\u001b[0m \u001b[0;34m'P2'\u001b[0m\u001b[0;34m,\u001b[0m \u001b[0mfontsize\u001b[0m\u001b[0;34m=\u001b[0m\u001b[0;36m20\u001b[0m\u001b[0;34m)\u001b[0m\u001b[0;34m\u001b[0m\u001b[0;34m\u001b[0m\u001b[0m\n\u001b[0;32m---> 34\u001b[0;31m     \u001b[0max\u001b[0m\u001b[0;34m.\u001b[0m\u001b[0mtext\u001b[0m\u001b[0;34m(\u001b[0m\u001b[0mb\u001b[0m\u001b[0;34m-\u001b[0m\u001b[0;36m0.02\u001b[0m\u001b[0;34m,\u001b[0m \u001b[0mp1y\u001b[0m\u001b[0;34m+\u001b[0m\u001b[0mheight\u001b[0m\u001b[0;34m*\u001b[0m\u001b[0;36m2\u001b[0m\u001b[0;34m/\u001b[0m\u001b[0;36m3\u001b[0m\u001b[0;34m,\u001b[0m \u001b[0;34m'b'\u001b[0m\u001b[0;34m,\u001b[0m \u001b[0mfontsize\u001b[0m\u001b[0;34m=\u001b[0m\u001b[0;36m20\u001b[0m\u001b[0;34m)\u001b[0m\u001b[0;34m\u001b[0m\u001b[0;34m\u001b[0m\u001b[0m\n\u001b[0m\u001b[1;32m     35\u001b[0m     \u001b[0max\u001b[0m\u001b[0;34m.\u001b[0m\u001b[0mtext\u001b[0m\u001b[0;34m(\u001b[0m\u001b[0ma\u001b[0m\u001b[0;34m-\u001b[0m\u001b[0;36m0.02\u001b[0m\u001b[0;34m,\u001b[0m \u001b[0mp1y\u001b[0m\u001b[0;34m+\u001b[0m\u001b[0mheight\u001b[0m\u001b[0;34m*\u001b[0m\u001b[0;36m2\u001b[0m\u001b[0;34m/\u001b[0m\u001b[0;36m3\u001b[0m\u001b[0;34m,\u001b[0m \u001b[0;34m'a'\u001b[0m\u001b[0;34m,\u001b[0m \u001b[0mfontsize\u001b[0m\u001b[0;34m=\u001b[0m\u001b[0;36m20\u001b[0m\u001b[0;34m)\u001b[0m\u001b[0;34m\u001b[0m\u001b[0;34m\u001b[0m\u001b[0m\n\u001b[1;32m     36\u001b[0m     \u001b[0max\u001b[0m\u001b[0;34m.\u001b[0m\u001b[0mtext\u001b[0m\u001b[0;34m(\u001b[0m\u001b[0mc\u001b[0m\u001b[0;34m-\u001b[0m\u001b[0;36m0.02\u001b[0m\u001b[0;34m,\u001b[0m \u001b[0mp2y\u001b[0m\u001b[0;34m+\u001b[0m\u001b[0mheight\u001b[0m\u001b[0;34m*\u001b[0m\u001b[0;36m2\u001b[0m\u001b[0;34m/\u001b[0m\u001b[0;36m3\u001b[0m\u001b[0;34m,\u001b[0m \u001b[0;34m'c'\u001b[0m\u001b[0;34m,\u001b[0m \u001b[0mfontsize\u001b[0m\u001b[0;34m=\u001b[0m\u001b[0;36m20\u001b[0m\u001b[0;34m)\u001b[0m\u001b[0;34m\u001b[0m\u001b[0;34m\u001b[0m\u001b[0m\n",
      "\u001b[0;31mNameError\u001b[0m: name 'b' is not defined"
     ]
    },
    {
     "name": "stderr",
     "output_type": "stream",
     "text": [
      "/Users/dtamayo/miniconda3/envs/p3/lib/python3.7/site-packages/matplotlib/font_manager.py:1331: UserWarning: findfont: Font family ['serif'] not found. Falling back to DejaVu Sans\n",
      "  (prop.get_family(), self.defaultFamily[fontext]))\n"
     ]
    },
    {
     "data": {
      "image/png": "[encoded data removed]",
      "text/plain": [
       "<Figure size 432x288 with 1 Axes>"
      ]
     },
     "metadata": {
      "needs_background": "light"
     },
     "output_type": "display_data"
    }
   ],
   "source": [
    "plot2streetvonNeumann(B1,B2)"
   ]
  },
  {
   "cell_type": "code",
   "execution_count": null,
   "metadata": {},
   "outputs": [],
   "source": []
  }
 ],
 "metadata": {
  "kernelspec": {
   "display_name": "Python 3",
   "language": "python",
   "name": "python3"
  },
  "language_info": {
   "codemirror_mode": {
    "name": "ipython",
    "version": 3
   },
   "file_extension": ".py",
   "mimetype": "text/x-python",
   "name": "python",
   "nbconvert_exporter": "python",
   "pygments_lexer": "ipython3",
   "version": "3.7.1"
  }
 },
 "nbformat": 4,
 "nbformat_minor": 2
}
